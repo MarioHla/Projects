{
 "cells": [
  {
   "cell_type": "markdown",
   "id": "826150f3",
   "metadata": {},
   "source": [
    "# \n",
    "# Disease detection from gene expression data using machine learning\n",
    "\n",
    "Research from 1999 showed that diseases such as cancer can be classified from gene expression data. Approaches based on that research are still used today. It is necessary to download the data from the mentioned research (Golub et al. 1999). \n",
    "\n",
    "The dataset will be predicted using following algorithms: \n",
    "- Logistic regression\n",
    "- Support vector machine \n",
    "- K-Means\n",
    "- Artificial neural network"
   ]
  },
  {
   "cell_type": "code",
   "execution_count": 1,
   "id": "66f96fcc",
   "metadata": {},
   "outputs": [],
   "source": [
    "from matplotlib import pyplot as plt\n",
    "import pandas as pd\n",
    "import numpy as np\n",
    "\n",
    "from sklearn.metrics import confusion_matrix"
   ]
  },
  {
   "cell_type": "code",
   "execution_count": 2,
   "id": "1d7eca7b",
   "metadata": {},
   "outputs": [],
   "source": [
    "#from sklearn.linear_model import LogisticRegression\n",
    "#from sklearn.svm import SVC\n",
    "#from sklearn.cluster import KMeans\n",
    "#import tensorflow as tf\n",
    "#from tensorflow import keras"
   ]
  },
  {
   "cell_type": "code",
   "execution_count": 3,
   "id": "eae8b30a",
   "metadata": {},
   "outputs": [],
   "source": [
    "#from sklearn.model_selection import train_test_split\n",
    "#from sklearn.metrics import classification_report\n",
    "#from sklearn.datasets import make_classification"
   ]
  },
  {
   "cell_type": "markdown",
   "id": "c82d6d2a",
   "metadata": {},
   "source": [
    "# \n",
    "Importing resources and forming datasets"
   ]
  },
  {
   "cell_type": "code",
   "execution_count": 4,
   "id": "019380c6",
   "metadata": {},
   "outputs": [],
   "source": [
    "dataset1 = pd.read_csv(\"actual.csv\")\n",
    "dataset2 = pd.read_csv(\"data_set_ALL_AML_train.csv\")\n",
    "dataset3 = pd.read_csv(\"data_set_ALL_AML_independent.csv\")\n",
    "\n",
    "novi = dataset1\n",
    "novi = novi.drop('patient', axis=1)\n",
    "\n",
    "proba2 = dataset2.drop([col for col in dataset2.columns if \"call\" in col], axis=1)\n",
    "proba2 = proba2.drop(['Gene Description','Gene Accession Number'], axis=1)\n",
    "\n",
    "proba3 = dataset3.drop([col for col in dataset3.columns if \"call\" in col], axis=1)\n",
    "proba3 = proba3.drop(['Gene Description','Gene Accession Number'], axis=1)\n",
    "x_train = proba2.T\n",
    "x_test = proba3.T.sort_index()\n",
    "\n",
    "y = novi[0:38]\n",
    "y2 = novi[38:]\n",
    "y_train = np.copy(y)\n",
    "y_train = np.ravel(y_train)\n",
    "y_test = np.copy(y2)\n",
    "y_test = np.ravel(y_test)"
   ]
  },
  {
   "cell_type": "code",
   "execution_count": 5,
   "id": "c2d91361",
   "metadata": {},
   "outputs": [],
   "source": [
    "#LOGISTIC REGRESSION\n",
    "from sklearn.linear_model import LogisticRegression\n",
    "\n",
    "x_train_lr = np.copy(x_train)\n",
    "y_train_lr = np.copy(y_train)\n",
    "\n",
    "x_test_lr = np.copy(x_test)\n",
    "y_test_lr = np.copy(y_test)\n",
    "\n",
    "#SUPPORT VECTOR MACHINE\n",
    "from sklearn.svm import SVC\n",
    "\n",
    "x_train_svm = np.copy(x_train)\n",
    "y_train_svm = np.copy(y_train)\n",
    "\n",
    "x_test_svm = np.copy(x_test)\n",
    "y_test_svm = np.copy(y_test)\n",
    "\n",
    "#PRINCIPAL COMPONENT ANALYSIS\n",
    "from sklearn.preprocessing import StandardScaler\n",
    "from sklearn.decomposition import PCA\n",
    "%matplotlib inline\n",
    "\n",
    "x_train_pca = np.copy(x_train)\n",
    "y_train_pca = np.copy(y_train)\n",
    "\n",
    "x_test_pca = np.copy(x_test)\n",
    "y_test_pca = np.copy(y_test)\n",
    "\n",
    "#K-MEANS\n",
    "from sklearn.cluster import KMeans\n",
    "\n",
    "x_train_km = np.copy(x_train)\n",
    "y_train_km = np.copy(y_train)\n",
    "\n",
    "x_test_km = np.copy(x_test)\n",
    "y_test_km = np.copy(y_test)\n",
    "\n",
    "#NEURAL NETWORK\n",
    "import tensorflow as tf\n",
    "from tensorflow import keras\n",
    "\n",
    "x_train_neural = np.copy(x_train)\n",
    "y_train_neural = np.copy(y)\n",
    "y_train_neural[y_train_neural== 'ALL'] = 0\n",
    "y_train_neural[y_train_neural== 'AML'] = 1\n",
    "y_train_neural = y_train_neural.astype('float')\n",
    "\n",
    "x_test_neural = np.copy(x_test)\n",
    "y_test_neural = np.copy(y2)\n",
    "y_test_neural[y_test_neural== 'ALL'] = 0\n",
    "y_test_neural[y_test_neural== 'AML'] = 1\n",
    "y_test_neural = y_test_neural.astype('float')\n"
   ]
  },
  {
   "cell_type": "markdown",
   "id": "edbeb946",
   "metadata": {},
   "source": [
    "# \n",
    "# LOGISTIC REGRESSION (LOGISTIČKA REGRESIJA)"
   ]
  },
  {
   "cell_type": "code",
   "execution_count": 6,
   "id": "ace79e60",
   "metadata": {},
   "outputs": [],
   "source": [
    "LogisticRegression = LogisticRegression()"
   ]
  },
  {
   "cell_type": "code",
   "execution_count": 7,
   "id": "d91bf82d",
   "metadata": {},
   "outputs": [
    {
     "data": {
      "text/plain": [
       "LogisticRegression()"
      ]
     },
     "execution_count": 7,
     "metadata": {},
     "output_type": "execute_result"
    }
   ],
   "source": [
    "LogisticRegression.fit(x_train_lr, y_train_lr)"
   ]
  },
  {
   "cell_type": "code",
   "execution_count": 8,
   "id": "2d5ae444",
   "metadata": {
    "scrolled": false
   },
   "outputs": [
    {
     "name": "stdout",
     "output_type": "stream",
     "text": [
      "Confusion matrix for train set\n",
      "[[27  0]\n",
      " [ 0 11]]\n",
      "\n",
      "\n",
      "Confusion matrix for test set\n",
      "[[19  0]\n",
      " [ 1 14]]\n",
      "\n",
      "Accuracy on test set\n",
      " 0.9705882352941176\n"
     ]
    }
   ],
   "source": [
    "train_pred_lr = LogisticRegression.predict(x_train_lr) #print(train_pred_lr == y_train_lr)\n",
    "print(\"Confusion matrix for train set\")\n",
    "print(confusion_matrix(train_pred_lr, y_train_lr))\n",
    "\n",
    "print()\n",
    "print()\n",
    "\n",
    "test_pred_lr = LogisticRegression.predict(x_test_lr) #print((test_pred_lr == y_test_lr))\n",
    "print(\"Confusion matrix for test set\")\n",
    "print(confusion_matrix(test_pred_lr, y_test_lr))\n",
    "\n",
    "print(\"\\nAccuracy on test set\\n\", LogisticRegression.score(x_test_lr, y_test_lr))"
   ]
  },
  {
   "cell_type": "markdown",
   "id": "9334bf74",
   "metadata": {},
   "source": [
    "# \n",
    "# SUPPORT VECTOR MACHINE (STROJ POTPORNIH VEKTORA)\n"
   ]
  },
  {
   "cell_type": "code",
   "execution_count": 9,
   "id": "cb3741be",
   "metadata": {},
   "outputs": [],
   "source": [
    "SVMachine = SVC(kernel = 'linear', C = 1)"
   ]
  },
  {
   "cell_type": "code",
   "execution_count": 10,
   "id": "b5e0f3cb",
   "metadata": {},
   "outputs": [],
   "source": [
    "SVMachine = SVC()"
   ]
  },
  {
   "cell_type": "code",
   "execution_count": 11,
   "id": "e88b5108",
   "metadata": {
    "scrolled": true
   },
   "outputs": [
    {
     "data": {
      "text/plain": [
       "SVC(kernel='linear')"
      ]
     },
     "execution_count": 11,
     "metadata": {},
     "output_type": "execute_result"
    }
   ],
   "source": [
    "SVMachine = SVC(kernel = 'linear')\n",
    "SVMachine.fit(x_train_svm, y_train_svm)"
   ]
  },
  {
   "cell_type": "code",
   "execution_count": 12,
   "id": "0c93fa8d",
   "metadata": {
    "scrolled": false
   },
   "outputs": [
    {
     "name": "stdout",
     "output_type": "stream",
     "text": [
      "Confusion matrix for train set\n",
      "[[27  0]\n",
      " [ 0 11]]\n",
      "\n",
      "\n",
      "Confusion matrix for test set\n",
      "[[19  0]\n",
      " [ 1 14]]\n",
      "\n",
      "Accuracy on test set\n",
      " 0.9705882352941176\n"
     ]
    }
   ],
   "source": [
    "train_pred_svm = SVMachine.predict(x_train_svm)#print(train_pred_svm == y_train_svm)\n",
    "print(\"Confusion matrix for train set\")\n",
    "print(confusion_matrix(train_pred_svm, y_train_svm))\n",
    "\n",
    "print()\n",
    "print()\n",
    "\n",
    "test_pred_svm = SVMachine.predict(x_test_svm) #print((test_pred_svm == y_test_svm)[8])\n",
    "print(\"Confusion matrix for test set\")\n",
    "print(confusion_matrix(test_pred_svm, y_test_svm))\n",
    "\n",
    "print(\"\\nAccuracy on test set\\n\", SVMachine.score(x_test_svm, y_test_svm))"
   ]
  },
  {
   "cell_type": "markdown",
   "id": "4f3ee4e1",
   "metadata": {},
   "source": [
    "# \n",
    "# Prikaz uzoraka u dvodimenzionalnom formatu PCA algoritmom"
   ]
  },
  {
   "cell_type": "code",
   "execution_count": 13,
   "id": "a67dbc64",
   "metadata": {},
   "outputs": [],
   "source": [
    "x_train_all_pca = np.copy(x_train_pca[0:27])\n",
    "y_train_all_pca = np.copy(y_train_pca[0:27])\n",
    "\n",
    "x_train_aml_pca = np.copy(x_train_pca[27:38])\n",
    "y_train_aml_pca = np.copy(y_train_pca[27:38])\n",
    "\n",
    "x_test_all_pca = np.concatenate((np.asmatrix(np.copy(x_test_pca[0:11])),\n",
    "                                np.asmatrix(np.copy(x_test_pca[16:18])),\n",
    "                                np.asmatrix(np.copy(x_test_pca[20:21])),\n",
    "                                np.asmatrix(np.copy(x_test_pca[28:34]))\n",
    "                                ), axis = 0)\n",
    "\n",
    "\n",
    "y_test_all_pca = np.concatenate((np.asmatrix(np.copy(y_test_pca[0:11])).T,\n",
    "                                np.asmatrix(np.copy(y_test_pca[16:18])).T,\n",
    "                                np.asmatrix(np.copy(y_test_pca[20:21])).T,\n",
    "                                np.asmatrix(np.copy(y_test_pca[28:34])).T\n",
    "                                ), axis = 0)\n",
    "\n",
    "x_test_aml_pca = np.concatenate((np.asmatrix(np.copy(x_test_pca[11:16])),\n",
    "                                np.asmatrix(np.copy(x_test_pca[18:20])),\n",
    "                                np.asmatrix(np.copy(x_test_pca[21:28])),\n",
    "                                ), axis = 0)\n",
    "\n",
    "y_test_aml_pca = np.concatenate((np.asmatrix(np.copy(y_test_pca[11:16])).T,\n",
    "                                np.asmatrix(np.copy(y_test_pca[18:20])).T,\n",
    "                                np.asmatrix(np.copy(y_test_pca[21:28])).T,\n",
    "                                ), axis = 0)"
   ]
  },
  {
   "cell_type": "code",
   "execution_count": 14,
   "id": "8c6796ef",
   "metadata": {},
   "outputs": [],
   "source": [
    "pca = PCA(n_components=3)\n",
    "\n",
    "scaler = StandardScaler()\n",
    "scaler.fit(x_train_all_pca)\n",
    "scaled_data = scaler.transform(x_train_all_pca)\n",
    "pca.fit(scaled_data)\n",
    "x_pca_1 = pca.transform(scaled_data)\n",
    "\n",
    "scaler = StandardScaler()\n",
    "scaler.fit(x_train_aml_pca)\n",
    "scaled_data= scaler.transform(x_train_aml_pca)\n",
    "pca.fit(scaled_data)\n",
    "x_pca_2 = pca.transform(scaled_data)"
   ]
  },
  {
   "cell_type": "code",
   "execution_count": 15,
   "id": "79f6dec9",
   "metadata": {},
   "outputs": [],
   "source": [
    "import warnings\n",
    "warnings.filterwarnings('ignore')"
   ]
  },
  {
   "cell_type": "code",
   "execution_count": 16,
   "id": "f925582c",
   "metadata": {},
   "outputs": [],
   "source": [
    "pca = PCA(n_components=3)\n",
    "\n",
    "scaler = StandardScaler()\n",
    "scaler.fit(x_test_all_pca)\n",
    "scaled_data = scaler.transform(x_test_all_pca)\n",
    "pca.fit(scaled_data)\n",
    "x_pca_3 = pca.transform(scaled_data)\n",
    "\n",
    "scaler = StandardScaler()\n",
    "scaler.fit(x_test_aml_pca)\n",
    "scaled_data= scaler.transform(x_test_aml_pca)\n",
    "pca.fit(scaled_data)\n",
    "x_pca_4 = pca.transform(scaled_data)"
   ]
  },
  {
   "cell_type": "code",
   "execution_count": 17,
   "id": "8758fe4c",
   "metadata": {
    "scrolled": false
   },
   "outputs": [
    {
     "data": {
      "text/plain": [
       "Text(0.5, 1.0, 'Test set')"
      ]
     },
     "execution_count": 17,
     "metadata": {},
     "output_type": "execute_result"
    },
    {
     "data": {
      "image/png": "[encoded data removed]",
      "text/plain": [
       "<Figure size 432x288 with 1 Axes>"
      ]
     },
     "metadata": {
      "needs_background": "light"
     },
     "output_type": "display_data"
    },
    {
     "data": {
      "image/png": "[encoded data removed]",
      "text/plain": [
       "<Figure size 432x288 with 1 Axes>"
      ]
     },
     "metadata": {
      "needs_background": "light"
     },
     "output_type": "display_data"
    }
   ],
   "source": [
    "plt.figure(figsize=(6,4))\n",
    "plt.scatter(x_pca_1[:,0], x_pca_1[:,1], c='yellow' )\n",
    "plt.scatter(x_pca_2[:,0], x_pca_2[:,1], c='green'  )\n",
    "plt.title(\"Training set\")\n",
    "\n",
    "#plt.savefig(\"Prikaz_uzoraka_2D_train\")\n",
    "\n",
    "plt.figure(figsize=(6,4))\n",
    "plt.scatter(x_pca_3[:,0], x_pca_3[:,1], c='yellow' )\n",
    "plt.scatter(x_pca_4[:,0], x_pca_4[:,1], c='green'  )\n",
    "plt.title(\"Test set\")\n",
    "\n",
    "#plt.savefig(\"Prikaz_uzoraka_2D_test\")"
   ]
  },
  {
   "cell_type": "markdown",
   "id": "a154bfa3",
   "metadata": {},
   "source": [
    "# \n",
    "# K-Means (K-srednje vrijednosti)"
   ]
  },
  {
   "cell_type": "code",
   "execution_count": 18,
   "id": "b1f06542",
   "metadata": {},
   "outputs": [],
   "source": [
    "Kmachine = KMeans(n_clusters = 2)\n",
    "Kmachine_tts = KMeans(n_clusters = 2)\n",
    "#parametar k_means - probati init staviti na random, n_init mozda 20 na randomu"
   ]
  },
  {
   "cell_type": "code",
   "execution_count": 19,
   "id": "14100c3b",
   "metadata": {},
   "outputs": [
    {
     "data": {
      "text/plain": [
       "KMeans(n_clusters=2)"
      ]
     },
     "execution_count": 19,
     "metadata": {},
     "output_type": "execute_result"
    }
   ],
   "source": [
    "Kmachine.fit(x_train_km)"
   ]
  },
  {
   "cell_type": "code",
   "execution_count": 20,
   "id": "a67c2d49",
   "metadata": {
    "scrolled": true
   },
   "outputs": [
    {
     "name": "stdout",
     "output_type": "stream",
     "text": [
      "Confusion matrix for train set\n",
      "[[27  4]\n",
      " [ 0  7]]\n",
      "\n",
      "\n",
      "Confusion matrix for test set\n",
      "[[20  8]\n",
      " [ 0  6]]\n",
      "\n",
      "Accuracy on test set\n",
      " 0.7647058823529411\n"
     ]
    }
   ],
   "source": [
    "train_pred_km = Kmachine.predict(x_train_km)\n",
    "train_pred_km = train_pred_km.astype('O')#print(train_pred_km)\n",
    "\n",
    "if (np.count_nonzero(train_pred_km == 0) > np.count_nonzero(train_pred_km == 1)):\n",
    "    train_pred_km[train_pred_km==0] = \"ALL\"\n",
    "    train_pred_km[train_pred_km==1] = \"AML\"\n",
    "else:\n",
    "    train_pred_km[train_pred_km==0] = \"AML\"\n",
    "    train_pred_km[train_pred_km==1] = \"ALL\"\n",
    "#print(train_pred_km == y_train_km)\n",
    "print(\"Confusion matrix for train set\")\n",
    "print(confusion_matrix(train_pred_km, y_train_km))\n",
    "\n",
    "print()\n",
    "print()\n",
    "\n",
    "test_pred_km = Kmachine.predict(x_test_km) \n",
    "test_pred_km = test_pred_km.astype('O') \n",
    "if (np.count_nonzero(test_pred_km == 0) > np.count_nonzero(test_pred_km == 1)):\n",
    "    test_pred_km[test_pred_km==0] = \"ALL\"\n",
    "    test_pred_km[test_pred_km==1] = \"AML\"\n",
    "else:\n",
    "    test_pred_km[test_pred_km==0] = \"AML\"\n",
    "    test_pred_km[test_pred_km==1] = \"ALL\"\n",
    "#print((test_pred_km == y_test_km)[8])\n",
    "print(\"Confusion matrix for test set\")\n",
    "print(confusion_matrix(test_pred_km, y_test_km))\n",
    "\n",
    "tocni = np.count_nonzero(test_pred_km == y_test_km)\n",
    "preciznost = tocni / test_pred_km.size\n",
    "print(\"\\nAccuracy on test set\\n\", preciznost)"
   ]
  },
  {
   "cell_type": "code",
   "execution_count": 21,
   "id": "a5336d8d",
   "metadata": {},
   "outputs": [],
   "source": [
    "from sklearn.model_selection import train_test_split"
   ]
  },
  {
   "cell_type": "code",
   "execution_count": 22,
   "id": "ed056d75",
   "metadata": {},
   "outputs": [],
   "source": [
    "x_big = np.concatenate((x_train, x_test), axis=0)\n",
    "y_big = np.concatenate((y_train, y_test), axis=0)"
   ]
  },
  {
   "cell_type": "code",
   "execution_count": 23,
   "id": "5864854a",
   "metadata": {},
   "outputs": [
    {
     "name": "stdout",
     "output_type": "stream",
     "text": [
      "Training set length = 35 / 72\n",
      "\n",
      "Comparing predicted values and labels for those 35 values\n",
      "[ True  True False  True  True False  True  True False False False  True\n",
      "  True  True  True  True  True  True  True  True  True  True False  True\n",
      "  True  True  True False False False False False False False False]\n",
      "[[21  8]\n",
      " [ 6  0]]\n",
      "\n",
      "Comparing predicted values and labels for the rest 37 values\n",
      "[False False False  True  True  True  True  True  True  True  True  True\n",
      "  True  True False False False False False  True  True False False  True\n",
      " False False False False False False False  True  True  True  True  True\n",
      "  True]\n",
      "[[20 17]\n",
      " [ 0  0]]\n",
      "\n",
      "\n",
      "Training set length = 42 / 72\n",
      "\n",
      "Comparing predicted values and labels for those 42 values\n",
      "[False  True  True False  True  True False False  True  True  True False\n",
      " False  True  True False  True False False  True False False False  True\n",
      " False False False False  True False False False False False False False\n",
      " False False False False False False]\n",
      "[[12 10]\n",
      " [19  1]]\n",
      "\n",
      "Comparing predicted values and labels for the rest 30 values\n",
      "[ True  True  True  True  True False  True  True False  True  True  True\n",
      "  True  True False False  True False False False  True False  True False\n",
      "  True False False  True  True  True]\n",
      "[[13  8]\n",
      " [ 3  6]]\n",
      "\n",
      "\n",
      "Training set length = 49 / 72\n",
      "\n",
      "Comparing predicted values and labels for those 49 values\n",
      "[ True  True  True  True  True False False False  True  True  True False\n",
      "  True  True  True  True  True False False  True  True False False  True\n",
      "  True  True False False  True False False False False  True False  True\n",
      " False False False False False  True False False False False False  True\n",
      " False]\n",
      "[[20  8]\n",
      " [18  3]]\n",
      "\n",
      "Comparing predicted values and labels for the rest 23 values\n",
      "[ True False  True  True False  True  True False False  True False False\n",
      " False  True False  True False False False False  True False  True]\n",
      "[[5 9]\n",
      " [4 5]]\n",
      "\n",
      "\n",
      "Training set length = 56 / 72\n",
      "\n",
      "Comparing predicted values and labels for those 56 values\n",
      "[False  True  True False  True  True False False  True  True  True False\n",
      " False  True  True  True  True  True False  True  True False False  True\n",
      "  True False False False  True False False False False False False False\n",
      " False False False False False False False False False False False  True\n",
      " False False  True False False False False False]\n",
      "[[17 14]\n",
      " [23  2]]\n",
      "\n",
      "Comparing predicted values and labels for the rest 16 values\n",
      "[False False  True False False False  True False  True False  True False\n",
      " False  True  True  True]\n",
      "[[5 7]\n",
      " [2 2]]\n",
      "\n",
      "\n",
      "Training set length = 63 / 72\n",
      "\n",
      "Comparing predicted values and labels for those 63 values\n",
      "[ True  True  True  True  True  True False  True  True  True  True  True\n",
      "  True  True  True  True  True  True  True  True  True  True  True  True\n",
      "  True  True  True False  True False False False False False False False\n",
      " False False  True  True  True  True False False  True False False  True\n",
      "  True False  True False False  True False False  True  True False  True\n",
      "  True  True False]\n",
      "[[33 14]\n",
      " [ 8  8]]\n",
      "\n",
      "Comparing predicted values and labels for the rest 9 values\n",
      "[False False  True  True  True  True False  True  True]\n",
      "[[5 2]\n",
      " [1 1]]\n",
      "\n",
      "\n"
     ]
    }
   ],
   "source": [
    "for i in range(5):\n",
    "    kalk = 35+(i*7)\n",
    "    x_train_tts, x_test_tts, y_train_tts, y_test_tts = train_test_split(x_big, y_big, train_size = kalk, shuffle= False)\n",
    "    Kmachine_tts.fit(x_train_tts)\n",
    "    print(\"Training set length =\", kalk, \"/ 72\")\n",
    "    print()\n",
    "    train_pred_tts = Kmachine_tts.predict(x_train_tts)\n",
    "    train_pred_tts = train_pred_tts.astype('O')\n",
    "    \n",
    "    if (np.count_nonzero(train_pred_tts == 0) > np.count_nonzero(train_pred_tts == 1)):\n",
    "        train_pred_tts[train_pred_tts==0] = \"ALL\"\n",
    "        train_pred_tts[train_pred_tts==1] = \"AML\"\n",
    "    else:\n",
    "        train_pred_tts[train_pred_tts==0] = \"AML\"\n",
    "        train_pred_tts[train_pred_tts==1] = \"ALL\"\n",
    "    #train_pred_tts\n",
    "    print(\"Comparing predicted values and labels for those\", kalk,\"values\")\n",
    "    print(y_train_tts == train_pred_tts)\n",
    "    print(confusion_matrix(train_pred_tts, y_train_tts))\n",
    "    print()\n",
    "    \n",
    "    test_pred_tts = Kmachine_tts.predict(x_test_tts)\n",
    "    test_pred_tts = test_pred_tts.astype('O')\n",
    "    if (np.count_nonzero(test_pred_tts == 0) > np.count_nonzero(test_pred_tts == 1)):\n",
    "        test_pred_tts[test_pred_tts==0] = \"ALL\"\n",
    "        test_pred_tts[test_pred_tts==1] = \"AML\"\n",
    "    else:\n",
    "        test_pred_tts[test_pred_tts==0] = \"AML\"\n",
    "        test_pred_tts[test_pred_tts==1] = \"ALL\"\n",
    "    #K_pred_tts\n",
    "    print(\"Comparing predicted values and labels for the rest\", 72-kalk,\"values\")\n",
    "    print(test_pred_tts == y_test_tts)\n",
    "    print(confusion_matrix(test_pred_tts, y_test_tts))\n",
    "    print()\n",
    "    print()\n",
    "    \n",
    "    #init za k.means"
   ]
  },
  {
   "cell_type": "markdown",
   "id": "eba64848",
   "metadata": {},
   "source": [
    "# \n",
    "# Neuronske mreže"
   ]
  },
  {
   "cell_type": "code",
   "execution_count": 24,
   "id": "5fd5e3ff",
   "metadata": {},
   "outputs": [],
   "source": [
    "layer_one = 347\n",
    "layer_two = 53"
   ]
  },
  {
   "cell_type": "code",
   "execution_count": 25,
   "id": "99cd0eeb",
   "metadata": {},
   "outputs": [],
   "source": [
    "NNeural = tf.keras.models.Sequential([\n",
    "    tf.keras.layers.Dense(layer_one, activation = 'relu'),\n",
    "    tf.keras.layers.Dense(layer_two, activation = 'relu'),\n",
    "    tf.keras.layers.Dense(1, activation='sigmoid')\n",
    "])\n",
    "NNeural.compile(optimizer = 'rmsprop',\n",
    "             loss = 'binary_crossentropy',\n",
    "             metrics = ['accuracy'])"
   ]
  },
  {
   "cell_type": "code",
   "execution_count": 26,
   "id": "af531a4a",
   "metadata": {
    "scrolled": false
   },
   "outputs": [
    {
     "name": "stdout",
     "output_type": "stream",
     "text": [
      "Epoch 1/15\n",
      "2/2 [==============================] - 1s 177ms/step - loss: 9480.4092 - accuracy: 0.5789 - val_loss: 5270.4980 - val_accuracy: 0.4118\n",
      "Epoch 2/15\n",
      "2/2 [==============================] - 0s 51ms/step - loss: 5145.1655 - accuracy: 0.4474 - val_loss: 4543.9810 - val_accuracy: 0.5882\n",
      "Epoch 3/15\n",
      "2/2 [==============================] - 0s 53ms/step - loss: 2542.2974 - accuracy: 0.7105 - val_loss: 4972.2051 - val_accuracy: 0.5882\n",
      "Epoch 4/15\n",
      "2/2 [==============================] - 0s 59ms/step - loss: 3439.1260 - accuracy: 0.7105 - val_loss: 213.4712 - val_accuracy: 0.6765\n",
      "Epoch 5/15\n",
      "2/2 [==============================] - 0s 53ms/step - loss: 174.1798 - accuracy: 0.8421 - val_loss: 152.8942 - val_accuracy: 0.7941\n",
      "Epoch 6/15\n",
      "2/2 [==============================] - 0s 51ms/step - loss: 66.1516 - accuracy: 0.9211 - val_loss: 213.4649 - val_accuracy: 0.7647\n",
      "Epoch 7/15\n",
      "2/2 [==============================] - 0s 55ms/step - loss: 115.2047 - accuracy: 0.8421 - val_loss: 4516.9155 - val_accuracy: 0.5882\n",
      "Epoch 8/15\n",
      "2/2 [==============================] - 0s 52ms/step - loss: 2704.3279 - accuracy: 0.7105 - val_loss: 1390.4385 - val_accuracy: 0.4118\n",
      "Epoch 9/15\n",
      "2/2 [==============================] - 0s 51ms/step - loss: 1127.0579 - accuracy: 0.3947 - val_loss: 1287.4474 - val_accuracy: 0.5882\n",
      "Epoch 10/15\n",
      "2/2 [==============================] - 0s 75ms/step - loss: 484.3155 - accuracy: 0.7895 - val_loss: 24.7077 - val_accuracy: 0.9412\n",
      "Epoch 11/15\n",
      "2/2 [==============================] - 0s 87ms/step - loss: 0.0000e+00 - accuracy: 1.0000 - val_loss: 24.7077 - val_accuracy: 0.9412\n",
      "Epoch 12/15\n",
      "2/2 [==============================] - 0s 63ms/step - loss: 0.0000e+00 - accuracy: 1.0000 - val_loss: 24.7077 - val_accuracy: 0.9412\n",
      "Epoch 13/15\n",
      "2/2 [==============================] - 0s 56ms/step - loss: 0.0000e+00 - accuracy: 1.0000 - val_loss: 24.7077 - val_accuracy: 0.9412\n",
      "Epoch 14/15\n",
      "2/2 [==============================] - 0s 56ms/step - loss: 0.0000e+00 - accuracy: 1.0000 - val_loss: 24.7077 - val_accuracy: 0.9412\n",
      "Epoch 15/15\n",
      "2/2 [==============================] - 0s 59ms/step - loss: 0.0000e+00 - accuracy: 1.0000 - val_loss: 24.7077 - val_accuracy: 0.9412\n"
     ]
    },
    {
     "data": {
      "image/png": "[encoded data removed]",
      "text/plain": [
       "<Figure size 432x288 with 1 Axes>"
      ]
     },
     "metadata": {
      "needs_background": "light"
     },
     "output_type": "display_data"
    },
    {
     "data": {
      "image/png": "[encoded data removed]",
      "text/plain": [
       "<Figure size 432x288 with 1 Axes>"
      ]
     },
     "metadata": {
      "needs_background": "light"
     },
     "output_type": "display_data"
    }
   ],
   "source": [
    "history = NNeural.fit(x_train_neural,\n",
    " y_train_neural,\n",
    " epochs=15,\n",
    " validation_data=(x_test_neural, y_test_neural))\n",
    "\n",
    "history_dict = history.history\n",
    "\n",
    "loss_values = history_dict[\"loss\"]\n",
    "val_loss_values = history_dict[\"val_loss\"]\n",
    "epochs = range(1, len(loss_values) + 1)\n",
    "plt.plot(epochs, loss_values, \"bo\", \n",
    "         label=\"Training loss\")\n",
    "plt.plot(epochs, val_loss_values, \"b\", \n",
    "         label=\"Validation loss\")\n",
    "plt.title(\"Training and validation loss\")\n",
    "plt.xlabel(\"Epochs\")\n",
    "plt.ylabel(\"Loss\")\n",
    "plt.legend()\n",
    "plt.show()\n",
    "plt.clf()\n",
    "\n",
    "acc = history_dict[\"accuracy\"]\n",
    "val_acc = history_dict[\"val_accuracy\"]\n",
    "plt.plot(epochs, acc, \"bo\", \n",
    "         label=\"Training acc\")\n",
    "plt.plot(epochs, val_acc, \"b\", \n",
    "         label=\"Validation acc\")\n",
    "plt.title(\"Training and validation accuracy\")\n",
    "plt.xlabel(\"Epochs\")\n",
    "plt.ylabel(\"Accuracy\")\n",
    "plt.legend()\n",
    "plt.show()"
   ]
  },
  {
   "cell_type": "code",
   "execution_count": 27,
   "id": "7a761472",
   "metadata": {
    "scrolled": true
   },
   "outputs": [
    {
     "name": "stdout",
     "output_type": "stream",
     "text": [
      "Epoch 1/9\n",
      "2/2 [==============================] - 1s 50ms/step - loss: 1968.6349 - accuracy: 0.6053\n",
      "Epoch 2/9\n",
      "2/2 [==============================] - 0s 47ms/step - loss: 8254.5117 - accuracy: 0.3421\n",
      "Epoch 3/9\n",
      "2/2 [==============================] - 0s 41ms/step - loss: 4139.0859 - accuracy: 0.7368\n",
      "Epoch 4/9\n",
      "2/2 [==============================] - 0s 37ms/step - loss: 1198.2301 - accuracy: 0.7368\n",
      "Epoch 5/9\n",
      "2/2 [==============================] - 0s 33ms/step - loss: 3686.4976 - accuracy: 0.7632\n",
      "Epoch 6/9\n",
      "2/2 [==============================] - 0s 41ms/step - loss: 0.0000e+00 - accuracy: 1.0000\n",
      "Epoch 7/9\n",
      "2/2 [==============================] - 0s 44ms/step - loss: 0.0000e+00 - accuracy: 1.0000\n",
      "Epoch 8/9\n",
      "2/2 [==============================] - 0s 32ms/step - loss: 0.0000e+00 - accuracy: 1.0000\n",
      "Epoch 9/9\n",
      "2/2 [==============================] - 0s 31ms/step - loss: 0.0000e+00 - accuracy: 1.0000\n"
     ]
    },
    {
     "data": {
      "text/plain": [
       "<keras.callbacks.History at 0x25452badfd0>"
      ]
     },
     "execution_count": 27,
     "metadata": {},
     "output_type": "execute_result"
    }
   ],
   "source": [
    "NNeural = tf.keras.models.Sequential([\n",
    "    tf.keras.layers.Dense(layer_one, activation = 'relu'),\n",
    "    tf.keras.layers.Dense(layer_two, activation = 'relu'),\n",
    "    tf.keras.layers.Dense(1, activation='sigmoid')\n",
    "])\n",
    "\n",
    "NNeural.compile(optimizer = 'rmsprop',\n",
    "             loss = 'binary_crossentropy',\n",
    "             metrics = ['accuracy'])\n",
    "\n",
    "NNeural.fit(x_train_neural,\n",
    " y_train_neural,\n",
    " epochs=9)\n"
   ]
  },
  {
   "cell_type": "code",
   "execution_count": 28,
   "id": "4c34ec3c",
   "metadata": {
    "scrolled": false
   },
   "outputs": [
    {
     "name": "stdout",
     "output_type": "stream",
     "text": [
      "2/2 [==============================] - 0s 3ms/step\n",
      "2/2 [==============================] - 0s 4ms/step\n",
      "\n",
      "Confusion matrix for train set\n",
      " [[27  0]\n",
      " [ 0 11]]\n"
     ]
    },
    {
     "data": {
      "image/png": "[encoded data removed]",
      "text/plain": [
       "<Figure size 360x360 with 1 Axes>"
      ]
     },
     "metadata": {
      "needs_background": "light"
     },
     "output_type": "display_data"
    },
    {
     "name": "stdout",
     "output_type": "stream",
     "text": [
      "\n",
      "Accuracy on test set\n",
      " 0.9705882352941176\n"
     ]
    }
   ],
   "source": [
    "train_pred_neural = NNeural.predict(x_train_neural)\n",
    "test_pred_neural = NNeural.predict(x_test_neural)\n",
    "print()\n",
    "print(\"Confusion matrix for train set\\n\",\n",
    "      confusion_matrix(train_pred_neural, y_train_neural))\n",
    "\n",
    "\n",
    "test_pred_neural = test_pred_neural.astype('int')\n",
    "cm = confusion_matrix(test_pred_neural, y_test_neural)\n",
    "fig, ax = plt.subplots(figsize=(5, 5))\n",
    "ax.imshow(cm)\n",
    "ax.grid(False)\n",
    "ax.set_ylabel(' Calculated AML   Calculated ALL', fontsize=16, color='black')\n",
    "ax.set_xlabel('  Wanted ALL       Wanted AML', fontsize=16, color='black')\n",
    "ax.xaxis.set(ticks=range(2))\n",
    "ax.yaxis.set(ticks=range(2))\n",
    "ax.set_ylim(1.5, -0.5)\n",
    "for i in range(2):\n",
    "    for j in range(2):\n",
    "        ax.text(j, i, cm[i, j], ha='center', fontsize=35, va='center', color='white')\n",
    "plt.show() \n",
    "#plt.savefig(\"Neural Test\")\n",
    "\n",
    "tocni = np.count_nonzero(test_pred_neural == y_test_neural)\n",
    "preciznost = tocni / test_pred_neural.size\n",
    "print(\"\\nAccuracy on test set\\n\", preciznost)\n",
    "#save fig plt.savefig"
   ]
  }
 ],
 "metadata": {
  "kernelspec": {
   "display_name": "Python 3 (ipykernel)",
   "language": "python",
   "name": "python3"
  },
  "language_info": {
   "codemirror_mode": {
    "name": "ipython",
    "version": 3
   },
   "file_extension": ".py",
   "mimetype": "text/x-python",
   "name": "python",
   "nbconvert_exporter": "python",
   "pygments_lexer": "ipython3",
   "version": "3.8.6"
  }
 },
 "nbformat": 4,
 "nbformat_minor": 5
}
